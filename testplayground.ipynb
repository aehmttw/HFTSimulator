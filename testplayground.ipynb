{
 "cells": [
  {
   "cell_type": "code",
   "execution_count": 1,
   "metadata": {},
   "outputs": [],
   "source": [
    "import uuid\n",
    "from agents import *\n",
    "from order import *\n",
    "from orderbook import *\n",
    "from trade import *\n",
    "from simulation import *\n",
    "from tests import *\n",
    "\n",
    "#refresh whenever change .py files"
   ]
  },
  {
   "cell_type": "code",
   "execution_count": 2,
   "metadata": {},
   "outputs": [],
   "source": [
    "# Used when there is no order to be placed\n",
    "noOrder = Order(None, False, \"\", 0, 0, 0)\n",
    "noOrder2 = Order(None, False, \"\", 0, 0, 0)"
   ]
  },
  {
   "cell_type": "code",
   "execution_count": 2,
   "metadata": {},
   "outputs": [
    {
     "output_type": "stream",
     "name": "stdout",
     "text": [
      "50\n100\n100\n100\n100\n100\n10\n"
     ]
    }
   ],
   "source": [
    "tests: Tests = Tests()\n",
    "\n",
    "tests.testBuy()\n",
    "tests.testSell()\n",
    "tests.testMatch()\n",
    "tests.testPartialMatch()\n",
    "tests.testOverflowMatch()\n",
    "tests.testMultiMatch()\n",
    "tests.testPerfectMultiPriceMatch()\n",
    "tests.testMultiPriceMatchLeftover()\n",
    "\n"
   ]
  },
  {
   "cell_type": "code",
   "execution_count": null,
   "metadata": {},
   "outputs": [],
   "source": [
    "# matching engine / exchange class for each symbol -> store data as well\n",
    "# trade class\n",
    "\n",
    "# create test file to test\n",
    "# unittest library - for testing in Python?"
   ]
  }
 ],
 "metadata": {
  "kernelspec": {
   "display_name": "Python 3",
   "language": "python",
   "name": "python3"
  },
  "language_info": {
   "codemirror_mode": {
    "name": "ipython",
    "version": 3
   },
   "file_extension": ".py",
   "mimetype": "text/x-python",
   "name": "python",
   "nbconvert_exporter": "python",
   "pygments_lexer": "ipython3",
   "version": "3.7.6-final"
  }
 },
 "nbformat": 4,
 "nbformat_minor": 4
}