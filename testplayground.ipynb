{
 "cells": [
  {
   "cell_type": "code",
   "execution_count": 5,
   "metadata": {},
   "outputs": [],
   "source": [
    "import uuid\n",
    "from agents import *\n",
    "from order import *\n",
    "from orderbook import *\n",
    "from trade import *\n",
    "from simulation import *\n",
    "\n",
    "#refresh whenever change .py files"
   ]
  },
  {
   "cell_type": "code",
   "execution_count": 6,
   "metadata": {},
   "outputs": [],
   "source": [
    "# Used when there is no order to be placed\n",
    "noOrder = Order(None, False, \"\", 0, 0, 0)"
   ]
  },
  {
   "cell_type": "code",
   "execution_count": 7,
   "metadata": {},
   "outputs": [
    {
     "output_type": "stream",
     "name": "stdout",
     "text": [
      "Sell orders: \nBuy orders: \nPrice: 52, Quantity: 80\nPrice: 50, Quantity: 100\nPrice: 49, Quantity: 120\nPrice: 45, Quantity: 200\n"
     ]
    }
   ],
   "source": [
    "# Test: creating buy orders\n",
    "simulation: Simulation = Simulation()\n",
    "book: OrderBook = OrderBook(simulation)\n",
    "book.matchOrder(Order(None, True, \"A\", 100, 50, 0), 0)\n",
    "book.matchOrder(Order(None, True, \"A\", 80, 52, 0), 0)\n",
    "book.matchOrder(Order(None, True, \"A\", 120, 49, 0), 0)\n",
    "book.matchOrder(Order(None, True, \"A\", 200, 45, 0), 0)\n",
    "book.print()"
   ]
  },
  {
   "cell_type": "code",
   "execution_count": 8,
   "metadata": {},
   "outputs": [
    {
     "output_type": "stream",
     "name": "stdout",
     "text": [
      "Sell orders: \nPrice: 45, Quantity: 200\nPrice: 49, Quantity: 120\nPrice: 50, Quantity: 100\nPrice: 52, Quantity: 80\nBuy orders: \n"
     ]
    }
   ],
   "source": [
    "# Test: creating sell orders\n",
    "simulation: Simulation = Simulation()\n",
    "book: OrderBook = OrderBook(simulation)\n",
    "book.matchOrder(Order(None, False, \"A\", 100, 50, 0), 0)\n",
    "book.matchOrder(Order(None, False, \"A\", 80, 52, 0), 0)\n",
    "book.matchOrder(Order(None, False, \"A\", 120, 49, 0), 0)\n",
    "book.matchOrder(Order(None, False, \"A\", 200, 45, 0), 0)\n",
    "book.print()"
   ]
  },
  {
   "cell_type": "code",
   "execution_count": 13,
   "metadata": {},
   "outputs": [
    {
     "output_type": "stream",
     "name": "stdout",
     "text": [
      "Before\nSell orders: \nPrice: 50, Quantity: 100\nBuy orders: \nAfter\nSell orders: \nBuy orders: \n"
     ]
    }
   ],
   "source": [
    "# Test: matching orders\n",
    "simulation: Simulation = Simulation()\n",
    "book: OrderBook = OrderBook(simulation)\n",
    "book.matchOrder(Order(None, False, \"A\", 100, 50, 0), 0)\n",
    "print(\"Before\")\n",
    "book.print()\n",
    "book.matchOrder(Order(None, True, \"A\", 100, 50, 0), 0)\n",
    "print(\"After\")\n",
    "book.print()"
   ]
  },
  {
   "cell_type": "code",
   "execution_count": null,
   "metadata": {},
   "outputs": [],
   "source": [
    "# Test: partially matching orders\n"
   ]
  },
  {
   "cell_type": "code",
   "execution_count": null,
   "metadata": {},
   "outputs": [],
   "source": [
    "# matching engine / exchange class for each symbol -> store data as well\n",
    "# trade class\n",
    "\n",
    "# create test file to test\n",
    "# unittest library - for testing in Python?"
   ]
  }
 ],
 "metadata": {
  "kernelspec": {
   "display_name": "Python 3",
   "language": "python",
   "name": "python3"
  },
  "language_info": {
   "codemirror_mode": {
    "name": "ipython",
    "version": 3
   },
   "file_extension": ".py",
   "mimetype": "text/x-python",
   "name": "python",
   "nbconvert_exporter": "python",
   "pygments_lexer": "ipython3",
   "version": "3.7.6-final"
  }
 },
 "nbformat": 4,
 "nbformat_minor": 4
}