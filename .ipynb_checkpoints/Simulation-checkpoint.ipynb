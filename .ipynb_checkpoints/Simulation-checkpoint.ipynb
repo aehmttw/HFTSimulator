{
 "cells": [
  {
   "cell_type": "code",
   "execution_count": 5,
   "metadata": {},
   "outputs": [],
   "source": [
    "import uuid\n",
    "import heapq"
   ]
  },
  {
   "cell_type": "code",
   "execution_count": 2,
   "metadata": {},
   "outputs": [],
   "source": [
    "class Order:\n",
    "    timestamp = 0\n",
    "    agent = None\n",
    "    buy = False\n",
    "    limit = False\n",
    "    symbol = \"\"\n",
    "    amount = 0\n",
    "    price = 0\n",
    "    \n",
    "    cancel = False\n",
    "    orderID = uuid.uuid4()\n",
    "    \n",
    "    def __init__(self, agent, buy, limit, symbol, amount, price, timestamp):\n",
    "        self.agent = agent\n",
    "        self.buy = buy\n",
    "        self.limit = limit\n",
    "        self.symbol = symbol\n",
    "        self.amount = amount\n",
    "        self.price = price\n",
    "        self.timestamp = timestamp\n",
    "    \n",
    "    # A cancel order uses the same orderID as the order it is canceling\n",
    "    def makeCancelOrder(agent, cancelID, timestamp):\n",
    "        o = Order(agent, false, false, \"\", 0, 0, timestamp)\n",
    "        o.cancel = True\n",
    "        o.orderID = cancelID\n",
    "        return o\n",
    "        \n",
    "# Used when there is no order to be placed\n",
    "noOrder = Order(None, False, False, \"\", 0, 0, 0)"
   ]
  },
  {
   "cell_type": "code",
   "execution_count": 3,
   "metadata": {},
   "outputs": [],
   "source": [
    "class Share:\n",
    "    symbol = \"\"\n",
    "    amount = 0\n",
    "    \n",
    "    def __init__(self, symbol, amount):\n",
    "        self.symbol = symbol\n",
    "        self.amount = amount"
   ]
  },
  {
   "cell_type": "code",
   "execution_count": 4,
   "metadata": {},
   "outputs": [],
   "source": [
    "class Agent:\n",
    "    balance = 10000.0\n",
    "    \n",
    "    # Symbol\n",
    "    shares = dict()\n",
    "    baseLatency = 0\n",
    "    \n",
    "    # Returns an Order telling what to do, or noOrder if nothing should be done\n",
    "    def trade():\n",
    "        return noOrder\n",
    "    \n",
    "    # Returns a latency for an action\n",
    "    # If latency varies for each action by a bit, that variation can be added here to a base latency\n",
    "    def getLatency():\n",
    "        return baseLatency\n",
    "    "
   ]
  },
  {
   "cell_type": "code",
   "execution_count": 8,
   "metadata": {},
   "outputs": [],
   "source": [
    "class OrderBook:\n",
    "    \n",
    "    # Stores sell side of order book as tuples with price, timestamp, and Order. \n",
    "    # The lowest sell order is popped first. In the event of a tie, the oldest one should pop first?\n",
    "    sellbook = heapq.heapify([])\n",
    "    \n",
    "    # Stores buy side of order book as tuples with negative price, timestamp, and Order.\n",
    "    # The highest buy order is popped first. In the event of a tie, the oldest one should pop first?\n",
    "    buybook = heapq.heapify([])\n",
    "    \n",
    "    # Adds an order to the order book. Used internally.\n",
    "    def addOrder(order):\n",
    "        if order.buy:\n",
    "            heapq.heappush(buybook, (-order.price, order.timestamp, order)\n",
    "        else\n",
    "            heapq.heappush(sellbook, (order.price, order.timestamp, order))\n",
    "    \n",
    "    # Takes in an order and tries to match it\n",
    "    def sumbitOrder(order):\n",
    "        if order.buy:\n",
    "            other = heapq.pop(sellbook)\n",
    "            \n",
    "            if other.price "
   ]
  },
  {
   "cell_type": "code",
   "execution_count": null,
   "metadata": {},
   "outputs": [],
   "source": []
  }
 ],
 "metadata": {
  "kernelspec": {
   "display_name": "Python 3",
   "language": "python",
   "name": "python3"
  },
  "language_info": {
   "codemirror_mode": {
    "name": "ipython",
    "version": 3
   },
   "file_extension": ".py",
   "mimetype": "text/x-python",
   "name": "python",
   "nbconvert_exporter": "python",
   "pygments_lexer": "ipython3",
   "version": "3.7.6"
  }
 },
 "nbformat": 4,
 "nbformat_minor": 4
}
